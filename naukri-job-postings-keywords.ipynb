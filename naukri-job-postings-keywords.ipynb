{
 "cells": [
  {
   "cell_type": "markdown",
   "id": "7856e97f-02aa-45e3-b010-7fb16e712c21",
   "metadata": {},
   "source": [
    "## Importing necessary libraries"
   ]
  },
  {
   "cell_type": "code",
   "execution_count": 1,
   "id": "18303af5-d642-4eca-9645-60bd2a68502a",
   "metadata": {
    "execution": {
     "iopub.execute_input": "2023-10-26T20:35:55.906714Z",
     "iopub.status.busy": "2023-10-26T20:35:55.903604Z",
     "iopub.status.idle": "2023-10-26T20:35:56.162491Z",
     "shell.execute_reply": "2023-10-26T20:35:56.161676Z",
     "shell.execute_reply.started": "2023-10-26T20:35:55.906656Z"
    }
   },
   "outputs": [],
   "source": [
    "import requests\n",
    "from bs4 import BeautifulSoup\n",
    "from selenium import webdriver\n",
    "from selenium.webdriver.common.by import By\n",
    "\n",
    "from selenium import webdriver\n",
    "from selenium.webdriver.common.by import By\n",
    "from selenium.webdriver.support.ui import WebDriverWait\n",
    "from selenium.webdriver.support import expected_conditions as EC\n",
    "import requests\n",
    "from bs4 import BeautifulSoup\n",
    "from selenium.common.exceptions import NoSuchElementException\n",
    "from selenium.common.exceptions import TimeoutException\n",
    "import pandas as pd"
   ]
  },
  {
   "cell_type": "markdown",
   "id": "c2a57886-0c70-4737-986e-364a24d0b98d",
   "metadata": {},
   "source": [
    "## Collect Job posting details URLs"
   ]
  },
  {
   "cell_type": "code",
   "execution_count": 46,
   "id": "fd038d3b-49f1-4725-965c-0db39875b735",
   "metadata": {
    "execution": {
     "iopub.execute_input": "2023-10-27T01:02:37.077050Z",
     "iopub.status.busy": "2023-10-27T01:02:37.076631Z",
     "iopub.status.idle": "2023-10-27T01:02:37.080881Z",
     "shell.execute_reply": "2023-10-27T01:02:37.080108Z",
     "shell.execute_reply.started": "2023-10-27T01:02:37.077015Z"
    }
   },
   "outputs": [],
   "source": [
    "# Create an empty list to store job posting URLs\n",
    "job_posting_links = []"
   ]
  },
  {
   "cell_type": "code",
   "execution_count": 47,
   "id": "a655cdc7-1fdc-4b3d-971b-c47371cac201",
   "metadata": {
    "execution": {
     "iopub.execute_input": "2023-10-27T01:02:37.749663Z",
     "iopub.status.busy": "2023-10-27T01:02:37.749149Z",
     "iopub.status.idle": "2023-10-27T01:02:37.753864Z",
     "shell.execute_reply": "2023-10-27T01:02:37.752943Z",
     "shell.execute_reply.started": "2023-10-27T01:02:37.749625Z"
    }
   },
   "outputs": [],
   "source": [
    "# Define the search query and location\n",
    "# This step was done with different values for search_query including['data scientist', 'data analyst', 'data science']\n",
    "search_query = \"data scientist\"\n",
    "location = \"india\""
   ]
  },
  {
   "cell_type": "code",
   "execution_count": 48,
   "id": "0cae687d-e4f8-4f70-8f60-6ad5efa908fe",
   "metadata": {
    "execution": {
     "iopub.execute_input": "2023-10-27T01:02:38.959293Z",
     "iopub.status.busy": "2023-10-27T01:02:38.958530Z",
     "iopub.status.idle": "2023-10-27T01:07:07.002383Z",
     "shell.execute_reply": "2023-10-27T01:07:07.001348Z",
     "shell.execute_reply.started": "2023-10-27T01:02:38.959261Z"
    },
    "tags": []
   },
   "outputs": [
    {
     "name": "stdout",
     "output_type": "stream",
     "text": [
      "https://www.naukri.com/data-scientist-jobs-in-india-1\n",
      "https://www.naukri.com/data-scientist-jobs-in-india-2\n",
      "https://www.naukri.com/data-scientist-jobs-in-india-3\n",
      "https://www.naukri.com/data-scientist-jobs-in-india-4\n",
      "https://www.naukri.com/data-scientist-jobs-in-india-5\n",
      "https://www.naukri.com/data-scientist-jobs-in-india-6\n",
      "https://www.naukri.com/data-scientist-jobs-in-india-7\n",
      "https://www.naukri.com/data-scientist-jobs-in-india-8\n",
      "https://www.naukri.com/data-scientist-jobs-in-india-9\n",
      "https://www.naukri.com/data-scientist-jobs-in-india-10\n",
      "https://www.naukri.com/data-scientist-jobs-in-india-11\n",
      "https://www.naukri.com/data-scientist-jobs-in-india-12\n",
      "https://www.naukri.com/data-scientist-jobs-in-india-13\n",
      "https://www.naukri.com/data-scientist-jobs-in-india-14\n",
      "https://www.naukri.com/data-scientist-jobs-in-india-15\n",
      "https://www.naukri.com/data-scientist-jobs-in-india-16\n",
      "https://www.naukri.com/data-scientist-jobs-in-india-17\n",
      "https://www.naukri.com/data-scientist-jobs-in-india-18\n",
      "https://www.naukri.com/data-scientist-jobs-in-india-19\n",
      "https://www.naukri.com/data-scientist-jobs-in-india-20\n",
      "https://www.naukri.com/data-scientist-jobs-in-india-21\n",
      "https://www.naukri.com/data-scientist-jobs-in-india-22\n",
      "https://www.naukri.com/data-scientist-jobs-in-india-23\n",
      "https://www.naukri.com/data-scientist-jobs-in-india-24\n",
      "https://www.naukri.com/data-scientist-jobs-in-india-25\n",
      "https://www.naukri.com/data-scientist-jobs-in-india-26\n",
      "https://www.naukri.com/data-scientist-jobs-in-india-27\n",
      "https://www.naukri.com/data-scientist-jobs-in-india-28\n",
      "https://www.naukri.com/data-scientist-jobs-in-india-29\n",
      "https://www.naukri.com/data-scientist-jobs-in-india-30\n",
      "https://www.naukri.com/data-scientist-jobs-in-india-31\n",
      "https://www.naukri.com/data-scientist-jobs-in-india-32\n",
      "https://www.naukri.com/data-scientist-jobs-in-india-33\n",
      "https://www.naukri.com/data-scientist-jobs-in-india-34\n",
      "https://www.naukri.com/data-scientist-jobs-in-india-35\n",
      "https://www.naukri.com/data-scientist-jobs-in-india-36\n",
      "https://www.naukri.com/data-scientist-jobs-in-india-37\n",
      "https://www.naukri.com/data-scientist-jobs-in-india-38\n",
      "https://www.naukri.com/data-scientist-jobs-in-india-39\n",
      "https://www.naukri.com/data-scientist-jobs-in-india-40\n",
      "https://www.naukri.com/data-scientist-jobs-in-india-41\n",
      "https://www.naukri.com/data-scientist-jobs-in-india-42\n",
      "https://www.naukri.com/data-scientist-jobs-in-india-43\n",
      "https://www.naukri.com/data-scientist-jobs-in-india-44\n",
      "https://www.naukri.com/data-scientist-jobs-in-india-45\n",
      "https://www.naukri.com/data-scientist-jobs-in-india-46\n",
      "https://www.naukri.com/data-scientist-jobs-in-india-47\n",
      "https://www.naukri.com/data-scientist-jobs-in-india-48\n",
      "https://www.naukri.com/data-scientist-jobs-in-india-49\n",
      "https://www.naukri.com/data-scientist-jobs-in-india-50\n",
      "https://www.naukri.com/data-scientist-jobs-in-india-51\n",
      "https://www.naukri.com/data-scientist-jobs-in-india-52\n",
      "https://www.naukri.com/data-scientist-jobs-in-india-53\n",
      "https://www.naukri.com/data-scientist-jobs-in-india-54\n",
      "https://www.naukri.com/data-scientist-jobs-in-india-55\n",
      "https://www.naukri.com/data-scientist-jobs-in-india-56\n",
      "https://www.naukri.com/data-scientist-jobs-in-india-57\n",
      "https://www.naukri.com/data-scientist-jobs-in-india-58\n",
      "https://www.naukri.com/data-scientist-jobs-in-india-59\n",
      "https://www.naukri.com/data-scientist-jobs-in-india-60\n",
      "https://www.naukri.com/data-scientist-jobs-in-india-61\n",
      "https://www.naukri.com/data-scientist-jobs-in-india-62\n",
      "https://www.naukri.com/data-scientist-jobs-in-india-63\n",
      "https://www.naukri.com/data-scientist-jobs-in-india-64\n",
      "https://www.naukri.com/data-scientist-jobs-in-india-65\n",
      "https://www.naukri.com/data-scientist-jobs-in-india-66\n",
      "https://www.naukri.com/data-scientist-jobs-in-india-67\n"
     ]
    }
   ],
   "source": [
    "page_number = 1\n",
    "driver = webdriver.Chrome()\n",
    "\n",
    "while True:  # Infinite loop to iterate through pages\n",
    "    \n",
    "    # Construct the URL for the current page \n",
    "    url = f\"https://www.naukri.com/{search_query.replace(' ', '-')}-jobs-in-{location.replace(' ', '-')}-{page_number}\"\n",
    "    print(url)\n",
    "    \n",
    "    # Open the URL\n",
    "    driver.get(url)\n",
    "\n",
    "    # Set an implicit wait for 10 seconds\n",
    "    driver.implicitly_wait(10)\n",
    "\n",
    "    # Find the job postings links by class name using a CSS selector\n",
    "    job_postings = driver.find_elements(By.CSS_SELECTOR, '.title')\n",
    "\n",
    "    # Check if there are no job postings on the page\n",
    "    if not job_postings:\n",
    "        break  # Break the loop if there are no more job postings\n",
    "\n",
    "    # Iterate through the job postings and add their href attributes to the list\n",
    "    for link in job_postings:\n",
    "        href = link.get_attribute('href')\n",
    "        job_posting_links.append(href)\n",
    "\n",
    "    # Increase page number\n",
    "    page_number += 1\n",
    "\n",
    "# Close the web browser when done\n",
    "driver.quit()"
   ]
  },
  {
   "cell_type": "code",
   "execution_count": 50,
   "id": "e4b1f31f-b9fe-43ca-9de3-783f81784e6b",
   "metadata": {
    "execution": {
     "iopub.execute_input": "2023-10-27T01:07:44.459896Z",
     "iopub.status.busy": "2023-10-27T01:07:44.459442Z",
     "iopub.status.idle": "2023-10-27T01:07:44.466966Z",
     "shell.execute_reply": "2023-10-27T01:07:44.465472Z",
     "shell.execute_reply.started": "2023-10-27T01:07:44.459860Z"
    }
   },
   "outputs": [],
   "source": [
    "# Check for duplicate webites\n",
    "unique_list = list(set(job_posting_links))"
   ]
  },
  {
   "cell_type": "code",
   "execution_count": 51,
   "id": "8f783629-67f6-404d-b594-ed84c61393ac",
   "metadata": {
    "execution": {
     "iopub.execute_input": "2023-10-27T01:07:51.262309Z",
     "iopub.status.busy": "2023-10-27T01:07:51.261894Z",
     "iopub.status.idle": "2023-10-27T01:07:51.268927Z",
     "shell.execute_reply": "2023-10-27T01:07:51.267604Z",
     "shell.execute_reply.started": "2023-10-27T01:07:51.262281Z"
    },
    "scrolled": true
   },
   "outputs": [
    {
     "data": {
      "text/plain": [
       "778"
      ]
     },
     "execution_count": 51,
     "metadata": {},
     "output_type": "execute_result"
    }
   ],
   "source": [
    "len(unique_list)"
   ]
  },
  {
   "cell_type": "code",
   "execution_count": 94,
   "id": "c9694d02-b6a5-480a-884d-609f695fba75",
   "metadata": {
    "execution": {
     "iopub.execute_input": "2023-10-27T06:32:51.217600Z",
     "iopub.status.busy": "2023-10-27T06:32:51.217143Z",
     "iopub.status.idle": "2023-10-27T06:32:51.241053Z",
     "shell.execute_reply": "2023-10-27T06:32:51.238981Z",
     "shell.execute_reply.started": "2023-10-27T06:32:51.217566Z"
    }
   },
   "outputs": [],
   "source": [
    "# Define the file name to store job listing details links\n",
    "file_name = f\"{search_query}_{location}.txt\"\n",
    "\n",
    "# Open the file in write mode\n",
    "with open(file_name, 'w') as file:\n",
    "    # Iterate through the list and write each item to a new line in the file\n",
    "    for item in unique_list:\n",
    "        if item is not None:\n",
    "            file.write(item + \"\\n\")\n",
    "\n",
    "# File is automatically closed when the 'with' block is exited"
   ]
  },
  {
   "cell_type": "code",
   "execution_count": 95,
   "id": "f6085d03-fb1c-437a-bdbc-32a598274112",
   "metadata": {
    "execution": {
     "iopub.execute_input": "2023-10-27T06:35:31.708997Z",
     "iopub.status.busy": "2023-10-27T06:35:31.708590Z",
     "iopub.status.idle": "2023-10-27T06:35:31.736114Z",
     "shell.execute_reply": "2023-10-27T06:35:31.732708Z",
     "shell.execute_reply.started": "2023-10-27T06:35:31.708968Z"
    }
   },
   "outputs": [],
   "source": [
    "file_name = f\"{search_query}_{location}.txt\"\n",
    "# Open the text file for reading\n",
    "with open(file_name, 'r') as file:\n",
    "    # Read the lines of the file into an array\n",
    "    data_analyst_list = file.readlines()\n",
    "\n",
    "# Now, 'lines' is an array containing the lines from the text file\n",
    "\n",
    "# You may want to remove trailing newline characters from each line\n",
    "all_list = [line.strip() for line in data_analyst_list]\n"
   ]
  },
  {
   "cell_type": "code",
   "execution_count": 96,
   "id": "caa203eb-fc5d-4a08-a9d0-f88fa7a729d8",
   "metadata": {
    "execution": {
     "iopub.execute_input": "2023-10-27T06:35:33.251300Z",
     "iopub.status.busy": "2023-10-27T06:35:33.250851Z",
     "iopub.status.idle": "2023-10-27T06:35:33.261234Z",
     "shell.execute_reply": "2023-10-27T06:35:33.260104Z",
     "shell.execute_reply.started": "2023-10-27T06:35:33.251271Z"
    }
   },
   "outputs": [
    {
     "data": {
      "text/plain": [
       "13617"
      ]
     },
     "execution_count": 96,
     "metadata": {},
     "output_type": "execute_result"
    }
   ],
   "source": [
    "# Check for duplicates\n",
    "data_scientist_unique = list(set(all_list))\n",
    "len(data_scientist_unique)"
   ]
  },
  {
   "cell_type": "markdown",
   "id": "1ab57098-1d42-43fe-af93-a40e96bb97cd",
   "metadata": {},
   "source": [
    "## Collect details of job descriptions from specified URLs"
   ]
  },
  {
   "cell_type": "code",
   "execution_count": 6,
   "id": "7bc25553-4c51-4d3f-a743-753e10478183",
   "metadata": {
    "execution": {
     "iopub.execute_input": "2023-10-26T20:36:10.335533Z",
     "iopub.status.busy": "2023-10-26T20:36:10.335084Z",
     "iopub.status.idle": "2023-10-26T20:36:10.339654Z",
     "shell.execute_reply": "2023-10-26T20:36:10.338623Z",
     "shell.execute_reply.started": "2023-10-26T20:36:10.335501Z"
    }
   },
   "outputs": [],
   "source": [
    "job_specifications = []"
   ]
  },
  {
   "cell_type": "code",
   "execution_count": 7,
   "id": "00ecf46e-b114-44f9-8180-8650ccdb9b10",
   "metadata": {
    "execution": {
     "iopub.execute_input": "2023-10-26T20:36:10.781086Z",
     "iopub.status.busy": "2023-10-26T20:36:10.780650Z",
     "iopub.status.idle": "2023-10-26T20:36:10.785285Z",
     "shell.execute_reply": "2023-10-26T20:36:10.784254Z",
     "shell.execute_reply.started": "2023-10-26T20:36:10.781050Z"
    }
   },
   "outputs": [],
   "source": [
    "different_structure_urls = []"
   ]
  },
  {
   "cell_type": "code",
   "execution_count": 81,
   "id": "99d44585-afd8-4f16-bade-05c1dcfc53fa",
   "metadata": {
    "execution": {
     "iopub.execute_input": "2023-10-27T03:53:53.459700Z",
     "iopub.status.busy": "2023-10-27T03:53:53.459305Z",
     "iopub.status.idle": "2023-10-27T03:54:06.813838Z",
     "shell.execute_reply": "2023-10-27T03:54:06.812139Z",
     "shell.execute_reply.started": "2023-10-27T03:53:53.459669Z"
    }
   },
   "outputs": [
    {
     "name": "stdout",
     "output_type": "stream",
     "text": [
      "9518\n",
      "Job title element not found for: https://www.naukri.com/job-listings-data-scientist-immo-chennai-1-to-4-years-040823501051\n",
      "9519\n"
     ]
    },
    {
     "ename": "NoSuchWindowException",
     "evalue": "Message: no such window: target window already closed\nfrom unknown error: web view not found\n  (Session info: chrome=118.0.5993.117)\nStacktrace:\n0   chromedriver                        0x000000010d63de08 chromedriver + 5025288\n1   chromedriver                        0x000000010d634c23 chromedriver + 4987939\n2   chromedriver                        0x000000010d1d6e67 chromedriver + 409191\n3   chromedriver                        0x000000010d1aabe4 chromedriver + 228324\n4   chromedriver                        0x000000010d252ebf chromedriver + 917183\n5   chromedriver                        0x000000010d268b56 chromedriver + 1006422\n6   chromedriver                        0x000000010d24d2b3 chromedriver + 893619\n7   chromedriver                        0x000000010d217eb9 chromedriver + 675513\n8   chromedriver                        0x000000010d2190ee chromedriver + 680174\n9   chromedriver                        0x000000010d5ff819 chromedriver + 4769817\n10  chromedriver                        0x000000010d604893 chromedriver + 4790419\n11  chromedriver                        0x000000010d60b66e chromedriver + 4818542\n12  chromedriver                        0x000000010d6055bd chromedriver + 4793789\n13  chromedriver                        0x000000010d5d798c chromedriver + 4606348\n14  chromedriver                        0x000000010d623b78 chromedriver + 4918136\n15  chromedriver                        0x000000010d623d30 chromedriver + 4918576\n16  chromedriver                        0x000000010d63485e chromedriver + 4986974\n17  libsystem_pthread.dylib             0x00007ff805fe94e1 _pthread_start + 125\n18  libsystem_pthread.dylib             0x00007ff805fe4f6b thread_start + 15\n",
     "output_type": "error",
     "traceback": [
      "\u001b[0;31m---------------------------------------------------------------------------\u001b[0m",
      "\u001b[0;31mNoSuchWindowException\u001b[0m                     Traceback (most recent call last)",
      "Cell \u001b[0;32mIn[81], line 24\u001b[0m\n\u001b[1;32m     21\u001b[0m wait \u001b[38;5;241m=\u001b[39m WebDriverWait(driver, \u001b[38;5;241m5\u001b[39m)\n\u001b[1;32m     23\u001b[0m \u001b[38;5;28;01mtry\u001b[39;00m:\n\u001b[0;32m---> 24\u001b[0m     job_title_elem \u001b[38;5;241m=\u001b[39m \u001b[43mwait\u001b[49m\u001b[38;5;241;43m.\u001b[39;49m\u001b[43muntil\u001b[49m\u001b[43m(\u001b[49m\u001b[43mEC\u001b[49m\u001b[38;5;241;43m.\u001b[39;49m\u001b[43mpresence_of_element_located\u001b[49m\u001b[43m(\u001b[49m\u001b[43m(\u001b[49m\u001b[43mBy\u001b[49m\u001b[38;5;241;43m.\u001b[39;49m\u001b[43mCLASS_NAME\u001b[49m\u001b[43m,\u001b[49m\u001b[43m \u001b[49m\u001b[38;5;124;43m\"\u001b[39;49m\u001b[38;5;124;43mstyles_jd-header-title__rZwM1\u001b[39;49m\u001b[38;5;124;43m\"\u001b[39;49m\u001b[43m)\u001b[49m\u001b[43m)\u001b[49m\u001b[43m)\u001b[49m\n\u001b[1;32m     25\u001b[0m     job_title \u001b[38;5;241m=\u001b[39m job_title_elem\u001b[38;5;241m.\u001b[39mtext \u001b[38;5;28;01mif\u001b[39;00m job_title_elem \u001b[38;5;28;01melse\u001b[39;00m \u001b[38;5;124m\"\u001b[39m\u001b[38;5;124mJob Title not found\u001b[39m\u001b[38;5;124m\"\u001b[39m\n\u001b[1;32m     26\u001b[0m     \u001b[38;5;66;03m# Extract the company name\u001b[39;00m\n",
      "File \u001b[0;32m~/.local/share/virtualenvs/project-SgpdOMz8/lib/python3.9/site-packages/selenium/webdriver/support/wait.py:86\u001b[0m, in \u001b[0;36mWebDriverWait.until\u001b[0;34m(self, method, message)\u001b[0m\n\u001b[1;32m     84\u001b[0m \u001b[38;5;28;01mwhile\u001b[39;00m \u001b[38;5;28;01mTrue\u001b[39;00m:\n\u001b[1;32m     85\u001b[0m     \u001b[38;5;28;01mtry\u001b[39;00m:\n\u001b[0;32m---> 86\u001b[0m         value \u001b[38;5;241m=\u001b[39m \u001b[43mmethod\u001b[49m\u001b[43m(\u001b[49m\u001b[38;5;28;43mself\u001b[39;49m\u001b[38;5;241;43m.\u001b[39;49m\u001b[43m_driver\u001b[49m\u001b[43m)\u001b[49m\n\u001b[1;32m     87\u001b[0m         \u001b[38;5;28;01mif\u001b[39;00m value:\n\u001b[1;32m     88\u001b[0m             \u001b[38;5;28;01mreturn\u001b[39;00m value\n",
      "File \u001b[0;32m~/.local/share/virtualenvs/project-SgpdOMz8/lib/python3.9/site-packages/selenium/webdriver/support/expected_conditions.py:81\u001b[0m, in \u001b[0;36mpresence_of_element_located.<locals>._predicate\u001b[0;34m(driver)\u001b[0m\n\u001b[1;32m     80\u001b[0m \u001b[38;5;28;01mdef\u001b[39;00m \u001b[38;5;21m_predicate\u001b[39m(driver):\n\u001b[0;32m---> 81\u001b[0m     \u001b[38;5;28;01mreturn\u001b[39;00m \u001b[43mdriver\u001b[49m\u001b[38;5;241;43m.\u001b[39;49m\u001b[43mfind_element\u001b[49m\u001b[43m(\u001b[49m\u001b[38;5;241;43m*\u001b[39;49m\u001b[43mlocator\u001b[49m\u001b[43m)\u001b[49m\n",
      "File \u001b[0;32m~/.local/share/virtualenvs/project-SgpdOMz8/lib/python3.9/site-packages/selenium/webdriver/remote/webdriver.py:738\u001b[0m, in \u001b[0;36mWebDriver.find_element\u001b[0;34m(self, by, value)\u001b[0m\n\u001b[1;32m    735\u001b[0m     by \u001b[38;5;241m=\u001b[39m By\u001b[38;5;241m.\u001b[39mCSS_SELECTOR\n\u001b[1;32m    736\u001b[0m     value \u001b[38;5;241m=\u001b[39m \u001b[38;5;124mf\u001b[39m\u001b[38;5;124m'\u001b[39m\u001b[38;5;124m[name=\u001b[39m\u001b[38;5;124m\"\u001b[39m\u001b[38;5;132;01m{\u001b[39;00mvalue\u001b[38;5;132;01m}\u001b[39;00m\u001b[38;5;124m\"\u001b[39m\u001b[38;5;124m]\u001b[39m\u001b[38;5;124m'\u001b[39m\n\u001b[0;32m--> 738\u001b[0m \u001b[38;5;28;01mreturn\u001b[39;00m \u001b[38;5;28;43mself\u001b[39;49m\u001b[38;5;241;43m.\u001b[39;49m\u001b[43mexecute\u001b[49m\u001b[43m(\u001b[49m\u001b[43mCommand\u001b[49m\u001b[38;5;241;43m.\u001b[39;49m\u001b[43mFIND_ELEMENT\u001b[49m\u001b[43m,\u001b[49m\u001b[43m \u001b[49m\u001b[43m{\u001b[49m\u001b[38;5;124;43m\"\u001b[39;49m\u001b[38;5;124;43musing\u001b[39;49m\u001b[38;5;124;43m\"\u001b[39;49m\u001b[43m:\u001b[49m\u001b[43m \u001b[49m\u001b[43mby\u001b[49m\u001b[43m,\u001b[49m\u001b[43m \u001b[49m\u001b[38;5;124;43m\"\u001b[39;49m\u001b[38;5;124;43mvalue\u001b[39;49m\u001b[38;5;124;43m\"\u001b[39;49m\u001b[43m:\u001b[49m\u001b[43m \u001b[49m\u001b[43mvalue\u001b[49m\u001b[43m}\u001b[49m\u001b[43m)\u001b[49m[\u001b[38;5;124m\"\u001b[39m\u001b[38;5;124mvalue\u001b[39m\u001b[38;5;124m\"\u001b[39m]\n",
      "File \u001b[0;32m~/.local/share/virtualenvs/project-SgpdOMz8/lib/python3.9/site-packages/selenium/webdriver/remote/webdriver.py:344\u001b[0m, in \u001b[0;36mWebDriver.execute\u001b[0;34m(self, driver_command, params)\u001b[0m\n\u001b[1;32m    342\u001b[0m response \u001b[38;5;241m=\u001b[39m \u001b[38;5;28mself\u001b[39m\u001b[38;5;241m.\u001b[39mcommand_executor\u001b[38;5;241m.\u001b[39mexecute(driver_command, params)\n\u001b[1;32m    343\u001b[0m \u001b[38;5;28;01mif\u001b[39;00m response:\n\u001b[0;32m--> 344\u001b[0m     \u001b[38;5;28;43mself\u001b[39;49m\u001b[38;5;241;43m.\u001b[39;49m\u001b[43merror_handler\u001b[49m\u001b[38;5;241;43m.\u001b[39;49m\u001b[43mcheck_response\u001b[49m\u001b[43m(\u001b[49m\u001b[43mresponse\u001b[49m\u001b[43m)\u001b[49m\n\u001b[1;32m    345\u001b[0m     response[\u001b[38;5;124m\"\u001b[39m\u001b[38;5;124mvalue\u001b[39m\u001b[38;5;124m\"\u001b[39m] \u001b[38;5;241m=\u001b[39m \u001b[38;5;28mself\u001b[39m\u001b[38;5;241m.\u001b[39m_unwrap_value(response\u001b[38;5;241m.\u001b[39mget(\u001b[38;5;124m\"\u001b[39m\u001b[38;5;124mvalue\u001b[39m\u001b[38;5;124m\"\u001b[39m, \u001b[38;5;28;01mNone\u001b[39;00m))\n\u001b[1;32m    346\u001b[0m     \u001b[38;5;28;01mreturn\u001b[39;00m response\n",
      "File \u001b[0;32m~/.local/share/virtualenvs/project-SgpdOMz8/lib/python3.9/site-packages/selenium/webdriver/remote/errorhandler.py:229\u001b[0m, in \u001b[0;36mErrorHandler.check_response\u001b[0;34m(self, response)\u001b[0m\n\u001b[1;32m    227\u001b[0m         alert_text \u001b[38;5;241m=\u001b[39m value[\u001b[38;5;124m\"\u001b[39m\u001b[38;5;124malert\u001b[39m\u001b[38;5;124m\"\u001b[39m]\u001b[38;5;241m.\u001b[39mget(\u001b[38;5;124m\"\u001b[39m\u001b[38;5;124mtext\u001b[39m\u001b[38;5;124m\"\u001b[39m)\n\u001b[1;32m    228\u001b[0m     \u001b[38;5;28;01mraise\u001b[39;00m exception_class(message, screen, stacktrace, alert_text)  \u001b[38;5;66;03m# type: ignore[call-arg]  # mypy is not smart enough here\u001b[39;00m\n\u001b[0;32m--> 229\u001b[0m \u001b[38;5;28;01mraise\u001b[39;00m exception_class(message, screen, stacktrace)\n",
      "\u001b[0;31mNoSuchWindowException\u001b[0m: Message: no such window: target window already closed\nfrom unknown error: web view not found\n  (Session info: chrome=118.0.5993.117)\nStacktrace:\n0   chromedriver                        0x000000010d63de08 chromedriver + 5025288\n1   chromedriver                        0x000000010d634c23 chromedriver + 4987939\n2   chromedriver                        0x000000010d1d6e67 chromedriver + 409191\n3   chromedriver                        0x000000010d1aabe4 chromedriver + 228324\n4   chromedriver                        0x000000010d252ebf chromedriver + 917183\n5   chromedriver                        0x000000010d268b56 chromedriver + 1006422\n6   chromedriver                        0x000000010d24d2b3 chromedriver + 893619\n7   chromedriver                        0x000000010d217eb9 chromedriver + 675513\n8   chromedriver                        0x000000010d2190ee chromedriver + 680174\n9   chromedriver                        0x000000010d5ff819 chromedriver + 4769817\n10  chromedriver                        0x000000010d604893 chromedriver + 4790419\n11  chromedriver                        0x000000010d60b66e chromedriver + 4818542\n12  chromedriver                        0x000000010d6055bd chromedriver + 4793789\n13  chromedriver                        0x000000010d5d798c chromedriver + 4606348\n14  chromedriver                        0x000000010d623b78 chromedriver + 4918136\n15  chromedriver                        0x000000010d623d30 chromedriver + 4918576\n16  chromedriver                        0x000000010d63485e chromedriver + 4986974\n17  libsystem_pthread.dylib             0x00007ff805fe94e1 _pthread_start + 125\n18  libsystem_pthread.dylib             0x00007ff805fe4f6b thread_start + 15\n"
     ]
    }
   ],
   "source": [
    "# URL of the job posting page\n",
    "# for job_posting_url in data_scientist_unique:\n",
    "for job_posting_url in unique_list[9518:]:\n",
    "# for job_posting_url in data_scientists_ls[36:]:\n",
    "    driver = webdriver.Chrome()\n",
    "    job_details = {}\n",
    "    # Send an HTTP GET request to the URL\n",
    "    response = requests.get(job_posting_url)\n",
    "    \n",
    "    # Check if the request was successful (status code 200)\n",
    "    if response.status_code == 200:\n",
    "        driver.get(job_posting_url)\n",
    "        \n",
    "        # Wait for the job title element to load (adjust the timeout as needed)\n",
    "        wait = WebDriverWait(driver, 5)\n",
    "\n",
    "        try:\n",
    "            job_title_elem = wait.until(EC.presence_of_element_located((By.CLASS_NAME, \"styles_jd-header-title__rZwM1\")))\n",
    "            job_title = job_title_elem.text if job_title_elem else \"Job Title not found\"\n",
    "            # Extract the company name\n",
    "            company_name_elem = wait.until(EC.presence_of_element_located((By.CLASS_NAME, \"styles_jd-header-comp-name__MvqAI\")))\n",
    "            company_name = company_name_elem.text.strip() if company_name_elem else \"Company name not found\"\n",
    "    \n",
    "                \n",
    "            # Extract the company location\n",
    "            location_elem = wait.until(EC.presence_of_element_located((By.CLASS_NAME, \"styles_jhc__location__W_pVs\")))\n",
    "            job_location = location_elem.text.strip() if location_elem else \"Location not found\"\n",
    "            \n",
    "            # Extract the experience\n",
    "            experience_elem = wait.until(EC.presence_of_element_located((By.CLASS_NAME, \"styles_jhc__exp__k_giM\")))\n",
    "            job_experience = experience_elem.text.strip() if experience_elem else \"Experience not found\"\n",
    "        \n",
    "            # Extract the salary\n",
    "            salary_elem = wait.until(EC.presence_of_element_located((By.CLASS_NAME, \"styles_jhc__salary__jdfEC\")))\n",
    "            job_salary = salary_elem.text.strip() if salary_elem else \"Salary not found\"\n",
    "        \n",
    "            # Extract the job post date\n",
    "            stats_elem = wait.until(EC.presence_of_element_located((By.CLASS_NAME, \"styles_jhc__jd-stats__KrId0\")))\n",
    "            job_stats = stats_elem.text.strip() if stats_elem else \"Stats not found\"\n",
    "        \n",
    "            # Find the div element\n",
    "            div_element = wait.until(EC.presence_of_element_located((By.CLASS_NAME, \"styles_JDC__dang-inner-html__h0K4t\")))\n",
    "        \n",
    "        # Extract all the text within the div element, including text within p tags\n",
    "            job_description = div_element.text\n",
    "        \n",
    "            # Extract the industry type\n",
    "            industry_type_elem = wait.until(EC.presence_of_element_located((By.CLASS_NAME, \"styles_other-details__oEN4O\")))\n",
    "            industry_type = industry_type_elem.text.strip() if industry_type_elem else \"Industry Type not found\"\n",
    "        \n",
    "            # Extract the education\n",
    "            required_education_elem = wait.until(EC.presence_of_element_located((By.CLASS_NAME, \"styles_education__KXFkO\")))\n",
    "            required_education = required_education_elem.text.strip() if required_education_elem else \"Education not found\"\n",
    "            \n",
    "            # Extract the key skills\n",
    "            key_skills_elem = wait.until(EC.presence_of_element_located((By.CLASS_NAME, \"styles_key-skill__GIPn_\")))\n",
    "            key_skills = key_skills_elem.text.strip() if key_skills_elem else \"key Skills not found\"\n",
    "            \n",
    "            \n",
    "            \n",
    "        \n",
    "            job_details[\"Job Title:\"] = job_title\n",
    "            job_details[\"Company Name:\"] = company_name\n",
    "            job_details[\"Job Location:\"] = job_location\n",
    "            job_details[\"Job Experience\"] = job_experience\n",
    "            job_details[\"Job Salary\"] = job_salary\n",
    "            job_details[\"Job Stats\"] = job_stats\n",
    "            job_details[\"Job Description:\"] = job_description\n",
    "            job_details[\"Industry Type:\"] = industry_type\n",
    "            job_details[\"Required Education:\"] = required_education\n",
    "            job_details[\"Key Skills:\"] = key_skills\n",
    "        \n",
    "        \n",
    "            job_specifications.append(job_details)\n",
    "            \n",
    "        except TimeoutException:\n",
    "            # Handle the case when the element is not found\n",
    "            print(\"Job title element not found for:\", job_posting_url)\n",
    "            different_structure_urls.append(job_posting_url)\n",
    "            continue  # Continue to the next iteration of the loop\n",
    "        \n",
    "        \n",
    "        \n",
    "    \n",
    "else:\n",
    "    print(\"Failed to retrieve the job posting page.\")\n",
    "    # Quit the Chrome WebDriver\n",
    "\n",
    "driver.quit()\n"
   ]
  },
  {
   "cell_type": "code",
   "execution_count": 77,
   "id": "f58ec08c-619d-4ec2-aa9a-3d6b2752adf3",
   "metadata": {
    "execution": {
     "iopub.execute_input": "2023-10-27T03:51:23.894791Z",
     "iopub.status.busy": "2023-10-27T03:51:23.894366Z",
     "iopub.status.idle": "2023-10-27T03:51:23.901525Z",
     "shell.execute_reply": "2023-10-27T03:51:23.900317Z",
     "shell.execute_reply.started": "2023-10-27T03:51:23.894759Z"
    }
   },
   "outputs": [
    {
     "data": {
      "text/plain": [
       "4104"
      ]
     },
     "execution_count": 77,
     "metadata": {},
     "output_type": "execute_result"
    }
   ],
   "source": [
    "len(job_specifications)"
   ]
  },
  {
   "cell_type": "code",
   "execution_count": 78,
   "id": "f7bdf6fa-7a8b-488c-9246-1a8d863b6b2d",
   "metadata": {
    "execution": {
     "iopub.execute_input": "2023-10-27T03:52:18.324811Z",
     "iopub.status.busy": "2023-10-27T03:52:18.324143Z",
     "iopub.status.idle": "2023-10-27T03:52:18.687428Z",
     "shell.execute_reply": "2023-10-27T03:52:18.686527Z",
     "shell.execute_reply.started": "2023-10-27T03:52:18.324782Z"
    }
   },
   "outputs": [
    {
     "name": "stdout",
     "output_type": "stream",
     "text": [
      "DataFrame has been written to part2_analyst_job_postings_india_from8445-1072-9517.csv\n"
     ]
    }
   ],
   "source": [
    "\n",
    "# Create a DataFrame from the list of dictionaries\n",
    "df_job_specifications = pd.DataFrame(job_specifications)\n",
    "# Specify the file path where you want to save the CSV file\n",
    "csv_file_path = \"part2_analyst_job_postings_india_from8445-1072-9517.csv\"\n",
    "\n",
    "# Write the DataFrame to the CSV file\n",
    "df_job_specifications.to_csv(csv_file_path, index=False)  # Set index=False to omit writing row numbers\n",
    "\n",
    "print(f\"DataFrame has been written to {csv_file_path}\")"
   ]
  },
  {
   "cell_type": "code",
   "execution_count": 79,
   "id": "b34db267-317a-4f92-b91d-cf34b1f56361",
   "metadata": {
    "execution": {
     "iopub.execute_input": "2023-10-27T03:52:39.554517Z",
     "iopub.status.busy": "2023-10-27T03:52:39.554018Z",
     "iopub.status.idle": "2023-10-27T03:52:39.563496Z",
     "shell.execute_reply": "2023-10-27T03:52:39.562716Z",
     "shell.execute_reply.started": "2023-10-27T03:52:39.554478Z"
    }
   },
   "outputs": [
    {
     "name": "stdout",
     "output_type": "stream",
     "text": [
      "DataFrame has been written to dice_analyst_job_postings_different_structure_urls-part2-8445-1072-9517.csv\n"
     ]
    }
   ],
   "source": [
    "df_different_structure_urls = pd.DataFrame(different_structure_urls)\n",
    "# Specify the file path where you want to save the CSV file\n",
    "csv_file_path = \"dice_analyst_job_postings_different_structure_urls-part2-8445-1072-9517.csv\"\n",
    "\n",
    "# Write the DataFrame to the CSV file\n",
    "df_different_structure_urls.to_csv(csv_file_path, index=False)  # Set index=False to omit writing row numbers\n",
    "\n",
    "print(f\"DataFrame has been written to {csv_file_path}\")"
   ]
  },
  {
   "cell_type": "code",
   "execution_count": 82,
   "id": "74ccf9f7-97a9-472f-bd6a-9a0de63e5b26",
   "metadata": {
    "execution": {
     "iopub.execute_input": "2023-10-27T03:56:52.251672Z",
     "iopub.status.busy": "2023-10-27T03:56:52.251266Z",
     "iopub.status.idle": "2023-10-27T03:56:52.460015Z",
     "shell.execute_reply": "2023-10-27T03:56:52.458562Z",
     "shell.execute_reply.started": "2023-10-27T03:56:52.251640Z"
    }
   },
   "outputs": [],
   "source": [
    "part1 = 'dice_analyst_job_postings_india_4872.csv'\n",
    "\n",
    "# Read the CSV file into a DataFrame\n",
    "df_part1 = pd.read_csv(part1)"
   ]
  },
  {
   "cell_type": "code",
   "execution_count": 84,
   "id": "f22e0c07-4cd7-4dba-bb6f-ef059a68f860",
   "metadata": {
    "execution": {
     "iopub.execute_input": "2023-10-27T03:59:43.992920Z",
     "iopub.status.busy": "2023-10-27T03:59:43.992496Z",
     "iopub.status.idle": "2023-10-27T03:59:44.146879Z",
     "shell.execute_reply": "2023-10-27T03:59:44.146019Z",
     "shell.execute_reply.started": "2023-10-27T03:59:43.992888Z"
    }
   },
   "outputs": [],
   "source": [
    "part2 = 'part2_analyst_job_postings_india_from8445-1072-9517.csv'\n",
    "\n",
    "# Read the CSV file into a DataFrame\n",
    "df_part2 = pd.read_csv(part2)"
   ]
  },
  {
   "cell_type": "code",
   "execution_count": 85,
   "id": "37cb500b-435c-40d8-98bd-fab94e65964a",
   "metadata": {
    "execution": {
     "iopub.execute_input": "2023-10-27T03:59:54.286687Z",
     "iopub.status.busy": "2023-10-27T03:59:54.286105Z",
     "iopub.status.idle": "2023-10-27T03:59:54.292247Z",
     "shell.execute_reply": "2023-10-27T03:59:54.291233Z",
     "shell.execute_reply.started": "2023-10-27T03:59:54.286651Z"
    }
   },
   "outputs": [
    {
     "data": {
      "text/plain": [
       "(4872, 10)"
      ]
     },
     "execution_count": 85,
     "metadata": {},
     "output_type": "execute_result"
    }
   ],
   "source": [
    "df_part1.shape"
   ]
  },
  {
   "cell_type": "code",
   "execution_count": 86,
   "id": "3aa16ea5-e823-4df6-8d1b-c3a5a6cc17a5",
   "metadata": {
    "execution": {
     "iopub.execute_input": "2023-10-27T04:00:04.127600Z",
     "iopub.status.busy": "2023-10-27T04:00:04.127178Z",
     "iopub.status.idle": "2023-10-27T04:00:04.133274Z",
     "shell.execute_reply": "2023-10-27T04:00:04.132257Z",
     "shell.execute_reply.started": "2023-10-27T04:00:04.127569Z"
    }
   },
   "outputs": [
    {
     "data": {
      "text/plain": [
       "(4104, 10)"
      ]
     },
     "execution_count": 86,
     "metadata": {},
     "output_type": "execute_result"
    }
   ],
   "source": [
    "df_part2.shape"
   ]
  },
  {
   "cell_type": "code",
   "execution_count": 89,
   "id": "51e903b5-7205-4d18-bb60-1d9240e00d78",
   "metadata": {
    "execution": {
     "iopub.execute_input": "2023-10-27T04:01:24.307445Z",
     "iopub.status.busy": "2023-10-27T04:01:24.306997Z",
     "iopub.status.idle": "2023-10-27T04:01:24.316008Z",
     "shell.execute_reply": "2023-10-27T04:01:24.315195Z",
     "shell.execute_reply.started": "2023-10-27T04:01:24.307416Z"
    }
   },
   "outputs": [],
   "source": [
    "all_job_postings = pd.concat([df_part1, df_part2], axis=0)"
   ]
  },
  {
   "cell_type": "code",
   "execution_count": 90,
   "id": "865e7a04-71cc-4d02-a17a-a50f098cb130",
   "metadata": {
    "execution": {
     "iopub.execute_input": "2023-10-27T04:01:25.696916Z",
     "iopub.status.busy": "2023-10-27T04:01:25.696508Z",
     "iopub.status.idle": "2023-10-27T04:01:25.703130Z",
     "shell.execute_reply": "2023-10-27T04:01:25.702066Z",
     "shell.execute_reply.started": "2023-10-27T04:01:25.696887Z"
    }
   },
   "outputs": [
    {
     "data": {
      "text/plain": [
       "(8976, 10)"
      ]
     },
     "execution_count": 90,
     "metadata": {},
     "output_type": "execute_result"
    }
   ],
   "source": [
    "all_job_postings.shape"
   ]
  },
  {
   "cell_type": "code",
   "execution_count": 91,
   "id": "5cc6a8ac-76d2-4dca-ba8f-c76244158a09",
   "metadata": {
    "execution": {
     "iopub.execute_input": "2023-10-27T04:01:42.141380Z",
     "iopub.status.busy": "2023-10-27T04:01:42.140949Z",
     "iopub.status.idle": "2023-10-27T04:01:42.166741Z",
     "shell.execute_reply": "2023-10-27T04:01:42.165928Z",
     "shell.execute_reply.started": "2023-10-27T04:01:42.141349Z"
    }
   },
   "outputs": [
    {
     "data": {
      "text/html": [
       "<div>\n",
       "<style scoped>\n",
       "    .dataframe tbody tr th:only-of-type {\n",
       "        vertical-align: middle;\n",
       "    }\n",
       "\n",
       "    .dataframe tbody tr th {\n",
       "        vertical-align: top;\n",
       "    }\n",
       "\n",
       "    .dataframe thead th {\n",
       "        text-align: right;\n",
       "    }\n",
       "</style>\n",
       "<table border=\"1\" class=\"dataframe\">\n",
       "  <thead>\n",
       "    <tr style=\"text-align: right;\">\n",
       "      <th></th>\n",
       "      <th>Job Title:</th>\n",
       "      <th>Company Name:</th>\n",
       "      <th>Job Location:</th>\n",
       "      <th>Job Experience</th>\n",
       "      <th>Job Salary</th>\n",
       "      <th>Job Stats</th>\n",
       "      <th>Job Description:</th>\n",
       "      <th>Industry Type:</th>\n",
       "      <th>Required Education:</th>\n",
       "      <th>Key Skills:</th>\n",
       "    </tr>\n",
       "  </thead>\n",
       "  <tbody>\n",
       "    <tr>\n",
       "      <th>0</th>\n",
       "      <td>Sr. Data Scientist</td>\n",
       "      <td>Skillety</td>\n",
       "      <td>Bangalore/Bengaluru</td>\n",
       "      <td>10 - 15 years</td>\n",
       "      <td>Not Disclosed</td>\n",
       "      <td>Posted: 30+ days ago\\nOpenings: 1\\nApplicants: 39</td>\n",
       "      <td>Strong R/Python programming skills and work ex...</td>\n",
       "      <td>Role: Data Scientist\\nIndustry Type: Recruitme...</td>\n",
       "      <td>Education\\nUG: Any Graduate\\nPG: Any Postgraduate</td>\n",
       "      <td>Key Skills\\nUnixLinuxStaffingTime managementPr...</td>\n",
       "    </tr>\n",
       "    <tr>\n",
       "      <th>1</th>\n",
       "      <td>Software Engineer</td>\n",
       "      <td>Talent Software4.1120 Reviews</td>\n",
       "      <td>Bangalore/Bengaluru</td>\n",
       "      <td>2 - 4 years</td>\n",
       "      <td>Not Disclosed</td>\n",
       "      <td>Posted: 30+ days ago\\nOpenings: 1\\nApplicants:...</td>\n",
       "      <td>Translate application storyboards and use case...</td>\n",
       "      <td>Role: Full Stack Developer\\nIndustry Type: IT ...</td>\n",
       "      <td>Education\\nUG: Any Graduate\\nPG: Any Postgraduate</td>\n",
       "      <td>Key Skills\\njQuerySilverlightMySQLSSRSJavascri...</td>\n",
       "    </tr>\n",
       "    <tr>\n",
       "      <th>2</th>\n",
       "      <td>Data Analyst - WealthTech</td>\n",
       "      <td>Mithra HR Consulting</td>\n",
       "      <td>Mumbai, Pune</td>\n",
       "      <td>3 - 7 years</td>\n",
       "      <td>Not Disclosed</td>\n",
       "      <td>Posted: 29 days ago\\nApplicants: 1161</td>\n",
       "      <td>Data Analyst - WealthTech\\n\\nRole : Data Analy...</td>\n",
       "      <td>Role: Data Analyst\\nIndustry Type: Management ...</td>\n",
       "      <td>Education\\nUG: Any Graduate\\nPG: MBA/PGDM in F...</td>\n",
       "      <td>Key Skills\\nSkills highlighted with ‘‘ are pre...</td>\n",
       "    </tr>\n",
       "    <tr>\n",
       "      <th>3</th>\n",
       "      <td>Project Associate - Public Health and CSR</td>\n",
       "      <td>Renalysis Consultants2.310 Reviews</td>\n",
       "      <td>Pune</td>\n",
       "      <td>1 - 2 years</td>\n",
       "      <td>Not Disclosed</td>\n",
       "      <td>Posted: 30+ days ago\\nOpenings: 1\\nApplicants:...</td>\n",
       "      <td>Support the development and implementation of ...</td>\n",
       "      <td>Role: Other\\nIndustry Type: Management Consult...</td>\n",
       "      <td>Education\\nUG: Any Graduate\\nPG: Any Postgraduate</td>\n",
       "      <td>Key Skills\\nData analysisLeadership developmen...</td>\n",
       "    </tr>\n",
       "    <tr>\n",
       "      <th>4</th>\n",
       "      <td>Senior Marketing executive</td>\n",
       "      <td>Mechuni</td>\n",
       "      <td>Bangalore/Bengaluru</td>\n",
       "      <td>1 - 4 years</td>\n",
       "      <td>Not Disclosed</td>\n",
       "      <td>Posted: 30+ days ago\\nOpenings: 1\\nApplicants: 96</td>\n",
       "      <td>We are looking for a Senior Marketing Executiv...</td>\n",
       "      <td>Role: Marketing Manager\\nIndustry Type: Intern...</td>\n",
       "      <td>Education\\nUG: B.B.A/ B.M.S in Management\\nPG:...</td>\n",
       "      <td>Key Skills\\nData analysisWeb analyticsSocial m...</td>\n",
       "    </tr>\n",
       "  </tbody>\n",
       "</table>\n",
       "</div>"
      ],
      "text/plain": [
       "                                  Job Title:  \\\n",
       "0                         Sr. Data Scientist   \n",
       "1                          Software Engineer   \n",
       "2                  Data Analyst - WealthTech   \n",
       "3  Project Associate - Public Health and CSR   \n",
       "4                 Senior Marketing executive   \n",
       "\n",
       "                        Company Name:        Job Location: Job Experience  \\\n",
       "0                            Skillety  Bangalore/Bengaluru  10 - 15 years   \n",
       "1       Talent Software4.1120 Reviews  Bangalore/Bengaluru    2 - 4 years   \n",
       "2                Mithra HR Consulting         Mumbai, Pune    3 - 7 years   \n",
       "3  Renalysis Consultants2.310 Reviews                 Pune    1 - 2 years   \n",
       "4                             Mechuni  Bangalore/Bengaluru    1 - 4 years   \n",
       "\n",
       "      Job Salary                                          Job Stats  \\\n",
       "0  Not Disclosed  Posted: 30+ days ago\\nOpenings: 1\\nApplicants: 39   \n",
       "1  Not Disclosed  Posted: 30+ days ago\\nOpenings: 1\\nApplicants:...   \n",
       "2  Not Disclosed              Posted: 29 days ago\\nApplicants: 1161   \n",
       "3  Not Disclosed  Posted: 30+ days ago\\nOpenings: 1\\nApplicants:...   \n",
       "4  Not Disclosed  Posted: 30+ days ago\\nOpenings: 1\\nApplicants: 96   \n",
       "\n",
       "                                    Job Description:  \\\n",
       "0  Strong R/Python programming skills and work ex...   \n",
       "1  Translate application storyboards and use case...   \n",
       "2  Data Analyst - WealthTech\\n\\nRole : Data Analy...   \n",
       "3  Support the development and implementation of ...   \n",
       "4  We are looking for a Senior Marketing Executiv...   \n",
       "\n",
       "                                      Industry Type:  \\\n",
       "0  Role: Data Scientist\\nIndustry Type: Recruitme...   \n",
       "1  Role: Full Stack Developer\\nIndustry Type: IT ...   \n",
       "2  Role: Data Analyst\\nIndustry Type: Management ...   \n",
       "3  Role: Other\\nIndustry Type: Management Consult...   \n",
       "4  Role: Marketing Manager\\nIndustry Type: Intern...   \n",
       "\n",
       "                                 Required Education:  \\\n",
       "0  Education\\nUG: Any Graduate\\nPG: Any Postgraduate   \n",
       "1  Education\\nUG: Any Graduate\\nPG: Any Postgraduate   \n",
       "2  Education\\nUG: Any Graduate\\nPG: MBA/PGDM in F...   \n",
       "3  Education\\nUG: Any Graduate\\nPG: Any Postgraduate   \n",
       "4  Education\\nUG: B.B.A/ B.M.S in Management\\nPG:...   \n",
       "\n",
       "                                         Key Skills:  \n",
       "0  Key Skills\\nUnixLinuxStaffingTime managementPr...  \n",
       "1  Key Skills\\njQuerySilverlightMySQLSSRSJavascri...  \n",
       "2  Key Skills\\nSkills highlighted with ‘‘ are pre...  \n",
       "3  Key Skills\\nData analysisLeadership developmen...  \n",
       "4  Key Skills\\nData analysisWeb analyticsSocial m...  "
      ]
     },
     "execution_count": 91,
     "metadata": {},
     "output_type": "execute_result"
    }
   ],
   "source": [
    "all_job_postings.head()"
   ]
  },
  {
   "cell_type": "code",
   "execution_count": 92,
   "id": "8c52bf5c-fa8f-4fd8-9914-d0e6aa993ca3",
   "metadata": {
    "execution": {
     "iopub.execute_input": "2023-10-27T04:03:16.408445Z",
     "iopub.status.busy": "2023-10-27T04:03:16.407995Z",
     "iopub.status.idle": "2023-10-27T04:03:17.085657Z",
     "shell.execute_reply": "2023-10-27T04:03:17.084716Z",
     "shell.execute_reply.started": "2023-10-27T04:03:16.408411Z"
    }
   },
   "outputs": [],
   "source": [
    "file_path = 'all_job_postings_9517.csv'\n",
    "\n",
    "# Write the DataFrame to a CSV file\n",
    "all_job_postings.to_csv(file_path, index=False)"
   ]
  },
  {
   "cell_type": "code",
   "execution_count": null,
   "id": "29c07c3f-a536-4d35-8b04-c5784bc10b41",
   "metadata": {},
   "outputs": [],
   "source": []
  }
 ],
 "metadata": {
  "kernelspec": {
   "display_name": "project",
   "language": "python",
   "name": "project"
  },
  "language_info": {
   "codemirror_mode": {
    "name": "ipython",
    "version": 3
   },
   "file_extension": ".py",
   "mimetype": "text/x-python",
   "name": "python",
   "nbconvert_exporter": "python",
   "pygments_lexer": "ipython3",
   "version": "3.9.6"
  }
 },
 "nbformat": 4,
 "nbformat_minor": 5
}
